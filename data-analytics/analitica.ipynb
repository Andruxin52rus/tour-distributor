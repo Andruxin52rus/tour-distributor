{
 "cells": [
  {
   "cell_type": "code",
   "execution_count": 1,
   "metadata": {},
   "outputs": [],
   "source": [
    "import numpy as np\n",
    "import pandas as pd\n",
    "\n",
    "from datetime import datetime"
   ]
  },
  {
   "cell_type": "code",
   "execution_count": 2,
   "metadata": {},
   "outputs": [],
   "source": [
    "origins_best_members = (pd.read_excel('../dataset/best_members.xlsx'))\n",
    "origins_large_families = (pd.read_excel('../dataset/large_families.xlsx'))\n",
    "origins_guardians = (pd.read_excel('../dataset/guardians.xlsx'))\n",
    "origins_rewards = (pd.read_excel('../dataset/encouragings.xlsx'))\n",
    "origins_single_parents_experience = (pd.read_excel('../dataset/single_parents_experience.xlsx'))\n",
    "origins_registry = (pd.read_excel('../dataset/registry_SKL_DOL.xlsx'))"
   ]
  },
  {
   "cell_type": "code",
   "execution_count": 3,
   "metadata": {},
   "outputs": [
    {
     "data": {
      "text/html": [
       "<div>\n",
       "<style scoped>\n",
       "    .dataframe tbody tr th:only-of-type {\n",
       "        vertical-align: middle;\n",
       "    }\n",
       "\n",
       "    .dataframe tbody tr th {\n",
       "        vertical-align: top;\n",
       "    }\n",
       "\n",
       "    .dataframe thead th {\n",
       "        text-align: right;\n",
       "    }\n",
       "</style>\n",
       "<table border=\"1\" class=\"dataframe\">\n",
       "  <thead>\n",
       "    <tr style=\"text-align: right;\">\n",
       "      <th></th>\n",
       "      <th>ind</th>\n",
       "      <th>site</th>\n",
       "      <th>id</th>\n",
       "      <th>name</th>\n",
       "      <th>date_bth</th>\n",
       "      <th>Степень родства</th>\n",
       "      <th>ФИ0 ребенка</th>\n",
       "      <th>ch_date</th>\n",
       "    </tr>\n",
       "  </thead>\n",
       "  <tbody>\n",
       "    <tr>\n",
       "      <th>0</th>\n",
       "      <td>1</td>\n",
       "      <td>Кашкай</td>\n",
       "      <td>NaN</td>\n",
       "      <td>а</td>\n",
       "      <td>01.05.1977</td>\n",
       "      <td>Дочь</td>\n",
       "      <td>а</td>\n",
       "      <td>05.09.2008</td>\n",
       "    </tr>\n",
       "    <tr>\n",
       "      <th>1</th>\n",
       "      <td>2</td>\n",
       "      <td>Кашкай</td>\n",
       "      <td>NaN</td>\n",
       "      <td>а</td>\n",
       "      <td>01.05.1977</td>\n",
       "      <td>Сын</td>\n",
       "      <td>а</td>\n",
       "      <td>21.06.2001</td>\n",
       "    </tr>\n",
       "    <tr>\n",
       "      <th>2</th>\n",
       "      <td>3</td>\n",
       "      <td>Кашкай</td>\n",
       "      <td>NaN</td>\n",
       "      <td>а</td>\n",
       "      <td>01.05.1977</td>\n",
       "      <td>Дочь</td>\n",
       "      <td>а</td>\n",
       "      <td>12.09.2003</td>\n",
       "    </tr>\n",
       "    <tr>\n",
       "      <th>3</th>\n",
       "      <td>4</td>\n",
       "      <td>Кашкай</td>\n",
       "      <td>NaN</td>\n",
       "      <td>а</td>\n",
       "      <td>01.05.1977</td>\n",
       "      <td>Дочь</td>\n",
       "      <td>а</td>\n",
       "      <td>10.01.2018</td>\n",
       "    </tr>\n",
       "    <tr>\n",
       "      <th>4</th>\n",
       "      <td>5</td>\n",
       "      <td>Кашкай</td>\n",
       "      <td>NaN</td>\n",
       "      <td>а</td>\n",
       "      <td>02.12.1980</td>\n",
       "      <td>Сын</td>\n",
       "      <td>а</td>\n",
       "      <td>24.12.2003</td>\n",
       "    </tr>\n",
       "  </tbody>\n",
       "</table>\n",
       "</div>"
      ],
      "text/plain": [
       "   ind    site  id name    date_bth Степень родства ФИ0 ребенка     ch_date\n",
       "0    1  Кашкай NaN    а  01.05.1977            Дочь         а    05.09.2008\n",
       "1    2  Кашкай NaN    а  01.05.1977             Сын         а    21.06.2001\n",
       "2    3  Кашкай NaN    а  01.05.1977            Дочь         а    12.09.2003\n",
       "3    4  Кашкай NaN    а  01.05.1977            Дочь         а    10.01.2018\n",
       "4    5  Кашкай NaN    а  02.12.1980             Сын         а    24.12.2003"
      ]
     },
     "execution_count": 3,
     "metadata": {},
     "output_type": "execute_result"
    }
   ],
   "source": [
    "origins_large_families.head()"
   ]
  },
  {
   "cell_type": "code",
   "execution_count": 4,
   "metadata": {},
   "outputs": [],
   "source": [
    "best_members = origins_best_members.drop(columns=['why', 'data', 'order ', 'subinfo']).dropna()\n",
    "large_families = origins_large_families.drop(columns=['ind', 'site', 'date_bth', 'Степень родства',\n",
    "       'ФИ0 ребенка']).dropna()\n",
    "guardians = origins_guardians.drop(columns=['ind', 'site', 'date_bth', 'Степень родства',\n",
    "       'ФИ0 ребенка', 'ch_date']).dropna()\n",
    "rewards = origins_rewards.drop(columns=['ind', 'site', 'data_dr', 'comand', 'status', 'position',\n",
    "       'func_code', 'func_name', 'access_date', 'dismisы_date', 'paper',\n",
    "       'причина', 'причина уточн.', 'Кратко', 'Название ставки', 'Категория',\n",
    "       'Поощрение От', 'Поощрение До', 'Уточнение', 'Основание']).dropna()\n",
    "single_parents_experience = origins_single_parents_experience.drop(columns=['site', 'date_bth', 'marital_status']).dropna()\n",
    "registry = origins_registry.copy()"
   ]
  },
  {
   "cell_type": "code",
   "execution_count": 5,
   "metadata": {},
   "outputs": [],
   "source": [
    "_dataset = [best_members, large_families, guardians, rewards, single_parents_experience, registry]\n",
    "dataset = []\n",
    "for data in _dataset:\n",
    "    data.drop(data[data.id <= 1].index, inplace=True)\n",
    "    data.drop(data[data.name == 'a'].index, inplace=True)\n",
    "    data.drop(data[data.name == 'а'].index, inplace=True)\n",
    "    dataset.append(data)\n",
    "\n",
    "best_members = dataset[0]\n",
    "large_families = dataset[1]\n",
    "guardians = dataset[2]\n",
    "rewards = dataset[3]\n",
    "single_parents_experience = dataset[4]\n",
    "registry = dataset[5]\n"
   ]
  },
  {
   "cell_type": "code",
   "execution_count": 6,
   "metadata": {},
   "outputs": [
    {
     "data": {
      "text/html": [
       "<div>\n",
       "<style scoped>\n",
       "    .dataframe tbody tr th:only-of-type {\n",
       "        vertical-align: middle;\n",
       "    }\n",
       "\n",
       "    .dataframe tbody tr th {\n",
       "        vertical-align: top;\n",
       "    }\n",
       "\n",
       "    .dataframe thead th {\n",
       "        text-align: right;\n",
       "    }\n",
       "</style>\n",
       "<table border=\"1\" class=\"dataframe\">\n",
       "  <thead>\n",
       "    <tr style=\"text-align: right;\">\n",
       "      <th></th>\n",
       "      <th>id</th>\n",
       "      <th>name</th>\n",
       "      <th>ch_date</th>\n",
       "    </tr>\n",
       "  </thead>\n",
       "  <tbody>\n",
       "    <tr>\n",
       "      <th>1864</th>\n",
       "      <td>633524165.0</td>\n",
       "      <td>Энтский Иннокентий Касьянович</td>\n",
       "      <td>01.01.1975</td>\n",
       "    </tr>\n",
       "    <tr>\n",
       "      <th>1865</th>\n",
       "      <td>633524165.0</td>\n",
       "      <td>Энтский Иннокентий Касьянович</td>\n",
       "      <td>01.01.1980</td>\n",
       "    </tr>\n",
       "    <tr>\n",
       "      <th>1866</th>\n",
       "      <td>633380338.0</td>\n",
       "      <td>Шеломов Эмиль Адамович</td>\n",
       "      <td>01.03.2017</td>\n",
       "    </tr>\n",
       "    <tr>\n",
       "      <th>1867</th>\n",
       "      <td>633380338.0</td>\n",
       "      <td>Шеломов Эмиль Адамович</td>\n",
       "      <td>01.03.2017</td>\n",
       "    </tr>\n",
       "    <tr>\n",
       "      <th>1868</th>\n",
       "      <td>633524218.0</td>\n",
       "      <td>Петрухин Аркадий Денисович</td>\n",
       "      <td>04.12.1984</td>\n",
       "    </tr>\n",
       "  </tbody>\n",
       "</table>\n",
       "</div>"
      ],
      "text/plain": [
       "               id                             name     ch_date\n",
       "1864  633524165.0   Энтский Иннокентий Касьянович   01.01.1975\n",
       "1865  633524165.0   Энтский Иннокентий Касьянович   01.01.1980\n",
       "1866  633380338.0          Шеломов Эмиль Адамович   01.03.2017\n",
       "1867  633380338.0          Шеломов Эмиль Адамович   01.03.2017\n",
       "1868  633524218.0      Петрухин Аркадий Денисович   04.12.1984"
      ]
     },
     "execution_count": 6,
     "metadata": {},
     "output_type": "execute_result"
    }
   ],
   "source": [
    "large_families.head()"
   ]
  },
  {
   "cell_type": "code",
   "execution_count": 7,
   "metadata": {},
   "outputs": [],
   "source": [
    "def how_years_old(date):\n",
    "    my_date = datetime.strptime(date, '%d.%m.%Y').date()\n",
    "    now_date = datetime.today().date()\n",
    "    hash = now_date.year - my_date.year + 0.1*(now_date.month - my_date.month) + 0.01*(now_date.day - my_date.day)\n",
    "    return hash"
   ]
  },
  {
   "cell_type": "code",
   "execution_count": 8,
   "metadata": {},
   "outputs": [
    {
     "data": {
      "text/plain": [
       "[0, 1, 4, 5, 9, 20, 21, 22, 23, 26, 27, 30, 31, 32, 39, 43, 44, 46, 47, 48]"
      ]
     },
     "execution_count": 8,
     "metadata": {},
     "output_type": "execute_result"
    }
   ],
   "source": [
    "inds_of_adult = []\n",
    "for i, date in enumerate(large_families.ch_date):\n",
    "    if (how_years_old(date) >= 18):\n",
    "        inds_of_adult.append(i)\n",
    "inds_of_adult[:20]"
   ]
  },
  {
   "cell_type": "code",
   "execution_count": 9,
   "metadata": {
    "scrolled": true
   },
   "outputs": [
    {
     "data": {
      "text/html": [
       "<div>\n",
       "<style scoped>\n",
       "    .dataframe tbody tr th:only-of-type {\n",
       "        vertical-align: middle;\n",
       "    }\n",
       "\n",
       "    .dataframe tbody tr th {\n",
       "        vertical-align: top;\n",
       "    }\n",
       "\n",
       "    .dataframe thead th {\n",
       "        text-align: right;\n",
       "    }\n",
       "</style>\n",
       "<table border=\"1\" class=\"dataframe\">\n",
       "  <thead>\n",
       "    <tr style=\"text-align: right;\">\n",
       "      <th></th>\n",
       "      <th>index</th>\n",
       "      <th>id</th>\n",
       "      <th>name</th>\n",
       "      <th>ch_date</th>\n",
       "    </tr>\n",
       "  </thead>\n",
       "  <tbody>\n",
       "    <tr>\n",
       "      <th>2</th>\n",
       "      <td>1866</td>\n",
       "      <td>633380338.0</td>\n",
       "      <td>Шеломов Эмиль Адамович</td>\n",
       "      <td>01.03.2017</td>\n",
       "    </tr>\n",
       "    <tr>\n",
       "      <th>3</th>\n",
       "      <td>1867</td>\n",
       "      <td>633380338.0</td>\n",
       "      <td>Шеломов Эмиль Адамович</td>\n",
       "      <td>01.03.2017</td>\n",
       "    </tr>\n",
       "    <tr>\n",
       "      <th>6</th>\n",
       "      <td>1870</td>\n",
       "      <td>633523541.0</td>\n",
       "      <td>Яржемковский Клавдий Сигизмундович</td>\n",
       "      <td>05.07.2009</td>\n",
       "    </tr>\n",
       "    <tr>\n",
       "      <th>7</th>\n",
       "      <td>1871</td>\n",
       "      <td>633384737.0</td>\n",
       "      <td>Сомкин Владимир Агапович</td>\n",
       "      <td>25.04.2018</td>\n",
       "    </tr>\n",
       "    <tr>\n",
       "      <th>8</th>\n",
       "      <td>1872</td>\n",
       "      <td>633518584.0</td>\n",
       "      <td>Кузубова Варвара Мироновна</td>\n",
       "      <td>09.01.2015</td>\n",
       "    </tr>\n",
       "  </tbody>\n",
       "</table>\n",
       "</div>"
      ],
      "text/plain": [
       "   index           id                                  name     ch_date\n",
       "2   1866  633380338.0               Шеломов Эмиль Адамович   01.03.2017\n",
       "3   1867  633380338.0               Шеломов Эмиль Адамович   01.03.2017\n",
       "6   1870  633523541.0   Яржемковский Клавдий Сигизмундович   05.07.2009\n",
       "7   1871  633384737.0             Сомкин Владимир Агапович   25.04.2018\n",
       "8   1872  633518584.0           Кузубова Варвара Мироновна   09.01.2015"
      ]
     },
     "execution_count": 9,
     "metadata": {},
     "output_type": "execute_result"
    }
   ],
   "source": [
    "large_families = large_families.reset_index()\n",
    "large_families = large_families.drop(inds_of_adult)\n",
    "large_families.head()"
   ]
  },
  {
   "cell_type": "code",
   "execution_count": 10,
   "metadata": {},
   "outputs": [],
   "source": [
    "large_families = large_families.reset_index()"
   ]
  },
  {
   "cell_type": "code",
   "execution_count": 11,
   "metadata": {},
   "outputs": [
    {
     "data": {
      "text/plain": [
       "19915"
      ]
     },
     "execution_count": 11,
     "metadata": {},
     "output_type": "execute_result"
    }
   ],
   "source": [
    "len(large_families)"
   ]
  },
  {
   "cell_type": "code",
   "execution_count": 12,
   "metadata": {},
   "outputs": [
    {
     "data": {
      "text/plain": [
       "numpy.float64"
      ]
     },
     "execution_count": 12,
     "metadata": {},
     "output_type": "execute_result"
    }
   ],
   "source": [
    "type(large_families.id.unique()[0])"
   ]
  },
  {
   "cell_type": "code",
   "execution_count": 13,
   "metadata": {
    "scrolled": true
   },
   "outputs": [
    {
     "data": {
      "text/html": [
       "<div>\n",
       "<style scoped>\n",
       "    .dataframe tbody tr th:only-of-type {\n",
       "        vertical-align: middle;\n",
       "    }\n",
       "\n",
       "    .dataframe tbody tr th {\n",
       "        vertical-align: top;\n",
       "    }\n",
       "\n",
       "    .dataframe thead th {\n",
       "        text-align: right;\n",
       "    }\n",
       "</style>\n",
       "<table border=\"1\" class=\"dataframe\">\n",
       "  <thead>\n",
       "    <tr style=\"text-align: right;\">\n",
       "      <th></th>\n",
       "      <th>level_0</th>\n",
       "      <th>index</th>\n",
       "      <th>id</th>\n",
       "      <th>name</th>\n",
       "      <th>ch_date</th>\n",
       "    </tr>\n",
       "  </thead>\n",
       "  <tbody>\n",
       "    <tr>\n",
       "      <th>11147</th>\n",
       "      <td>21214</td>\n",
       "      <td>23078</td>\n",
       "      <td>2393.0</td>\n",
       "      <td>Купин Александр Витальевич</td>\n",
       "      <td>13.08.2016</td>\n",
       "    </tr>\n",
       "    <tr>\n",
       "      <th>13174</th>\n",
       "      <td>24251</td>\n",
       "      <td>26115</td>\n",
       "      <td>5582.0</td>\n",
       "      <td>Шлыкова Ольга Владимировна</td>\n",
       "      <td>16.06.2009</td>\n",
       "    </tr>\n",
       "    <tr>\n",
       "      <th>13173</th>\n",
       "      <td>24250</td>\n",
       "      <td>26114</td>\n",
       "      <td>5582.0</td>\n",
       "      <td>Шлыкова Ольга Владимировна</td>\n",
       "      <td>15.06.2017</td>\n",
       "    </tr>\n",
       "    <tr>\n",
       "      <th>13172</th>\n",
       "      <td>24249</td>\n",
       "      <td>26113</td>\n",
       "      <td>5582.0</td>\n",
       "      <td>Шлыкова Ольга Владимировна</td>\n",
       "      <td>11.03.2015</td>\n",
       "    </tr>\n",
       "    <tr>\n",
       "      <th>13175</th>\n",
       "      <td>24252</td>\n",
       "      <td>26116</td>\n",
       "      <td>5582.0</td>\n",
       "      <td>Шлыкова Ольга Владимировна</td>\n",
       "      <td>07.11.2012</td>\n",
       "    </tr>\n",
       "  </tbody>\n",
       "</table>\n",
       "</div>"
      ],
      "text/plain": [
       "       level_0  index      id                        name     ch_date\n",
       "11147    21214  23078  2393.0  Купин Александр Витальевич  13.08.2016\n",
       "13174    24251  26115  5582.0  Шлыкова Ольга Владимировна  16.06.2009\n",
       "13173    24250  26114  5582.0  Шлыкова Ольга Владимировна  15.06.2017\n",
       "13172    24249  26113  5582.0  Шлыкова Ольга Владимировна  11.03.2015\n",
       "13175    24252  26116  5582.0  Шлыкова Ольга Владимировна  07.11.2012"
      ]
     },
     "execution_count": 13,
     "metadata": {},
     "output_type": "execute_result"
    }
   ],
   "source": [
    "large_families = large_families.sort_values(by=['id'])\n",
    "large_families.head()"
   ]
  },
  {
   "cell_type": "code",
   "execution_count": 14,
   "metadata": {},
   "outputs": [
    {
     "data": {
      "text/plain": [
       "[1, 4, 3, 2, 2, 1, 3, 2, 2, 3]"
      ]
     },
     "execution_count": 14,
     "metadata": {},
     "output_type": "execute_result"
    }
   ],
   "source": [
    "num_of_children = []\n",
    "for id in large_families.id.unique():\n",
    "    num_of_children.append(len(large_families[large_families.id == id]))\n",
    "num_of_children[:10]"
   ]
  },
  {
   "cell_type": "code",
   "execution_count": 15,
   "metadata": {},
   "outputs": [
    {
     "data": {
      "text/html": [
       "<div>\n",
       "<style scoped>\n",
       "    .dataframe tbody tr th:only-of-type {\n",
       "        vertical-align: middle;\n",
       "    }\n",
       "\n",
       "    .dataframe tbody tr th {\n",
       "        vertical-align: top;\n",
       "    }\n",
       "\n",
       "    .dataframe thead th {\n",
       "        text-align: right;\n",
       "    }\n",
       "</style>\n",
       "<table border=\"1\" class=\"dataframe\">\n",
       "  <thead>\n",
       "    <tr style=\"text-align: right;\">\n",
       "      <th></th>\n",
       "      <th>id</th>\n",
       "    </tr>\n",
       "  </thead>\n",
       "  <tbody>\n",
       "    <tr>\n",
       "      <th>0</th>\n",
       "      <td>-9223372036854775808</td>\n",
       "    </tr>\n",
       "    <tr>\n",
       "      <th>1</th>\n",
       "      <td>49999860</td>\n",
       "    </tr>\n",
       "    <tr>\n",
       "      <th>2</th>\n",
       "      <td>49999861</td>\n",
       "    </tr>\n",
       "    <tr>\n",
       "      <th>3</th>\n",
       "      <td>49999862</td>\n",
       "    </tr>\n",
       "    <tr>\n",
       "      <th>4</th>\n",
       "      <td>49999863</td>\n",
       "    </tr>\n",
       "  </tbody>\n",
       "</table>\n",
       "</div>"
      ],
      "text/plain": [
       "                    id\n",
       "0 -9223372036854775808\n",
       "1             49999860\n",
       "2             49999861\n",
       "3             49999862\n",
       "4             49999863"
      ]
     },
     "execution_count": 15,
     "metadata": {},
     "output_type": "execute_result"
    }
   ],
   "source": [
    "unic_ids_reg = registry.id.unique().astype(int)\n",
    "unic_ids_best_members = best_members.id.unique().astype(int)\n",
    "unic_ids_large_families = best_members.id.unique().astype(int)\n",
    "unic_ids_guardians = best_members.id.unique().astype(int)\n",
    "unic_ids_rewards = best_members.id.unique().astype(int)\n",
    "unic_ids_single_parents_experience = best_members.id.unique().astype(int)\n",
    "\n",
    "unic_ids = np.unique(np.concatenate((unic_ids_reg, unic_ids_best_members, \n",
    "                                    unic_ids_large_families, unic_ids_guardians,\n",
    "                                    unic_ids_rewards, unic_ids_single_parents_experience),0))\n",
    "\n",
    "perfect_dataset = pd.DataFrame({'id': unic_ids})\n",
    "perfect_dataset.head()"
   ]
  },
  {
   "cell_type": "code",
   "execution_count": null,
   "metadata": {},
   "outputs": [],
   "source": []
  }
 ],
 "metadata": {
  "kernelspec": {
   "display_name": "Python 3",
   "language": "python",
   "name": "python3"
  },
  "language_info": {
   "codemirror_mode": {
    "name": "ipython",
    "version": 3
   },
   "file_extension": ".py",
   "mimetype": "text/x-python",
   "name": "python",
   "nbconvert_exporter": "python",
   "pygments_lexer": "ipython3",
   "version": "3.6.7"
  }
 },
 "nbformat": 4,
 "nbformat_minor": 2
}
